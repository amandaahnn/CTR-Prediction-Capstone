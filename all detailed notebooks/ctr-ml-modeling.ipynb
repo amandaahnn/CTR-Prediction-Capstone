{
 "cells": [
  {
   "cell_type": "markdown",
   "id": "8344854d",
   "metadata": {},
   "source": [
    "## Modeling\n",
    "In this notebook, we will be identifying which supervised and/or unsupervised machine learning techniques will work best with our project. We will build three predictive models and evaluate each of them through appropriate performance metrices to determine which model is the best. "
   ]
  },
  {
   "cell_type": "markdown",
   "id": "51a44b1b",
   "metadata": {},
   "source": [
    "##### Imported our code from the previous notebooks"
   ]
  },
  {
   "cell_type": "code",
   "execution_count": 1,
   "id": "2d7bf5d2",
   "metadata": {},
   "outputs": [],
   "source": [
    "import numpy as np \n",
    "import pandas as pd\n",
    "import matplotlib.pyplot as plt\n",
    "from scipy import stats\n",
    "import seaborn as sns"
   ]
  },
  {
   "cell_type": "code",
   "execution_count": 3,
   "id": "3f8680fd",
   "metadata": {},
   "outputs": [],
   "source": [
    "data = pd.read_csv('train.csv')"
   ]
  },
  {
   "cell_type": "code",
   "execution_count": 4,
   "id": "62591f67",
   "metadata": {},
   "outputs": [],
   "source": [
    "data = data.drop(['id', 'site_id'], axis=1)"
   ]
  },
  {
   "cell_type": "markdown",
   "id": "235b4ae6",
   "metadata": {},
   "source": [
    "There is no need to create dummy features for my data because I am using the click column as my main variable, which is already numerical as 1 for when a click was present and 0 for when a click was not present. Creating dummy variables for any of the other columns wouldn't be helpful and would just make my data a lot larger when it's already very big. "
   ]
  },
  {
   "cell_type": "code",
   "execution_count": 5,
   "id": "69c5154a",
   "metadata": {},
   "outputs": [
    {
     "data": {
      "text/plain": [
       "click                int64\n",
       "hour                 int64\n",
       "C1                   int64\n",
       "banner_pos           int64\n",
       "site_domain         object\n",
       "site_category       object\n",
       "app_id              object\n",
       "app_domain          object\n",
       "app_category        object\n",
       "device_id           object\n",
       "device_ip           object\n",
       "device_model        object\n",
       "device_type          int64\n",
       "device_conn_type     int64\n",
       "C14                  int64\n",
       "C15                  int64\n",
       "C16                  int64\n",
       "C17                  int64\n",
       "C18                  int64\n",
       "C19                  int64\n",
       "C20                  int64\n",
       "C21                  int64\n",
       "dtype: object"
      ]
     },
     "execution_count": 5,
     "metadata": {},
     "output_type": "execute_result"
    }
   ],
   "source": [
    "data.dtypes"
   ]
  },
  {
   "cell_type": "code",
   "execution_count": 6,
   "id": "126b69f3",
   "metadata": {},
   "outputs": [
    {
     "data": {
      "text/html": [
       "<div>\n",
       "<style scoped>\n",
       "    .dataframe tbody tr th:only-of-type {\n",
       "        vertical-align: middle;\n",
       "    }\n",
       "\n",
       "    .dataframe tbody tr th {\n",
       "        vertical-align: top;\n",
       "    }\n",
       "\n",
       "    .dataframe thead th {\n",
       "        text-align: right;\n",
       "    }\n",
       "</style>\n",
       "<table border=\"1\" class=\"dataframe\">\n",
       "  <thead>\n",
       "    <tr style=\"text-align: right;\">\n",
       "      <th></th>\n",
       "      <th>click</th>\n",
       "      <th>hour</th>\n",
       "      <th>C1</th>\n",
       "      <th>banner_pos</th>\n",
       "      <th>site_domain</th>\n",
       "      <th>site_category</th>\n",
       "      <th>app_id</th>\n",
       "      <th>app_domain</th>\n",
       "      <th>app_category</th>\n",
       "      <th>device_id</th>\n",
       "      <th>...</th>\n",
       "      <th>device_type</th>\n",
       "      <th>device_conn_type</th>\n",
       "      <th>C14</th>\n",
       "      <th>C15</th>\n",
       "      <th>C16</th>\n",
       "      <th>C17</th>\n",
       "      <th>C18</th>\n",
       "      <th>C19</th>\n",
       "      <th>C20</th>\n",
       "      <th>C21</th>\n",
       "    </tr>\n",
       "  </thead>\n",
       "  <tbody>\n",
       "    <tr>\n",
       "      <th>0</th>\n",
       "      <td>0</td>\n",
       "      <td>14102100</td>\n",
       "      <td>1005</td>\n",
       "      <td>0</td>\n",
       "      <td>f3845767</td>\n",
       "      <td>28905ebd</td>\n",
       "      <td>ecad2386</td>\n",
       "      <td>7801e8d9</td>\n",
       "      <td>07d7df22</td>\n",
       "      <td>a99f214a</td>\n",
       "      <td>...</td>\n",
       "      <td>1</td>\n",
       "      <td>2</td>\n",
       "      <td>15706</td>\n",
       "      <td>320</td>\n",
       "      <td>50</td>\n",
       "      <td>1722</td>\n",
       "      <td>0</td>\n",
       "      <td>35</td>\n",
       "      <td>-1</td>\n",
       "      <td>79</td>\n",
       "    </tr>\n",
       "    <tr>\n",
       "      <th>1</th>\n",
       "      <td>0</td>\n",
       "      <td>14102100</td>\n",
       "      <td>1005</td>\n",
       "      <td>0</td>\n",
       "      <td>f3845767</td>\n",
       "      <td>28905ebd</td>\n",
       "      <td>ecad2386</td>\n",
       "      <td>7801e8d9</td>\n",
       "      <td>07d7df22</td>\n",
       "      <td>a99f214a</td>\n",
       "      <td>...</td>\n",
       "      <td>1</td>\n",
       "      <td>0</td>\n",
       "      <td>15704</td>\n",
       "      <td>320</td>\n",
       "      <td>50</td>\n",
       "      <td>1722</td>\n",
       "      <td>0</td>\n",
       "      <td>35</td>\n",
       "      <td>100084</td>\n",
       "      <td>79</td>\n",
       "    </tr>\n",
       "    <tr>\n",
       "      <th>2</th>\n",
       "      <td>0</td>\n",
       "      <td>14102100</td>\n",
       "      <td>1005</td>\n",
       "      <td>0</td>\n",
       "      <td>f3845767</td>\n",
       "      <td>28905ebd</td>\n",
       "      <td>ecad2386</td>\n",
       "      <td>7801e8d9</td>\n",
       "      <td>07d7df22</td>\n",
       "      <td>a99f214a</td>\n",
       "      <td>...</td>\n",
       "      <td>1</td>\n",
       "      <td>0</td>\n",
       "      <td>15704</td>\n",
       "      <td>320</td>\n",
       "      <td>50</td>\n",
       "      <td>1722</td>\n",
       "      <td>0</td>\n",
       "      <td>35</td>\n",
       "      <td>100084</td>\n",
       "      <td>79</td>\n",
       "    </tr>\n",
       "    <tr>\n",
       "      <th>3</th>\n",
       "      <td>0</td>\n",
       "      <td>14102100</td>\n",
       "      <td>1005</td>\n",
       "      <td>0</td>\n",
       "      <td>f3845767</td>\n",
       "      <td>28905ebd</td>\n",
       "      <td>ecad2386</td>\n",
       "      <td>7801e8d9</td>\n",
       "      <td>07d7df22</td>\n",
       "      <td>a99f214a</td>\n",
       "      <td>...</td>\n",
       "      <td>1</td>\n",
       "      <td>0</td>\n",
       "      <td>15706</td>\n",
       "      <td>320</td>\n",
       "      <td>50</td>\n",
       "      <td>1722</td>\n",
       "      <td>0</td>\n",
       "      <td>35</td>\n",
       "      <td>100084</td>\n",
       "      <td>79</td>\n",
       "    </tr>\n",
       "    <tr>\n",
       "      <th>4</th>\n",
       "      <td>0</td>\n",
       "      <td>14102100</td>\n",
       "      <td>1005</td>\n",
       "      <td>1</td>\n",
       "      <td>9166c161</td>\n",
       "      <td>0569f928</td>\n",
       "      <td>ecad2386</td>\n",
       "      <td>7801e8d9</td>\n",
       "      <td>07d7df22</td>\n",
       "      <td>a99f214a</td>\n",
       "      <td>...</td>\n",
       "      <td>1</td>\n",
       "      <td>0</td>\n",
       "      <td>18993</td>\n",
       "      <td>320</td>\n",
       "      <td>50</td>\n",
       "      <td>2161</td>\n",
       "      <td>0</td>\n",
       "      <td>35</td>\n",
       "      <td>-1</td>\n",
       "      <td>157</td>\n",
       "    </tr>\n",
       "  </tbody>\n",
       "</table>\n",
       "<p>5 rows × 22 columns</p>\n",
       "</div>"
      ],
      "text/plain": [
       "   click      hour    C1  banner_pos site_domain site_category    app_id  \\\n",
       "0      0  14102100  1005           0    f3845767      28905ebd  ecad2386   \n",
       "1      0  14102100  1005           0    f3845767      28905ebd  ecad2386   \n",
       "2      0  14102100  1005           0    f3845767      28905ebd  ecad2386   \n",
       "3      0  14102100  1005           0    f3845767      28905ebd  ecad2386   \n",
       "4      0  14102100  1005           1    9166c161      0569f928  ecad2386   \n",
       "\n",
       "  app_domain app_category device_id  ... device_type device_conn_type    C14  \\\n",
       "0   7801e8d9     07d7df22  a99f214a  ...           1                2  15706   \n",
       "1   7801e8d9     07d7df22  a99f214a  ...           1                0  15704   \n",
       "2   7801e8d9     07d7df22  a99f214a  ...           1                0  15704   \n",
       "3   7801e8d9     07d7df22  a99f214a  ...           1                0  15706   \n",
       "4   7801e8d9     07d7df22  a99f214a  ...           1                0  18993   \n",
       "\n",
       "   C15  C16   C17  C18  C19     C20  C21  \n",
       "0  320   50  1722    0   35      -1   79  \n",
       "1  320   50  1722    0   35  100084   79  \n",
       "2  320   50  1722    0   35  100084   79  \n",
       "3  320   50  1722    0   35  100084   79  \n",
       "4  320   50  2161    0   35      -1  157  \n",
       "\n",
       "[5 rows x 22 columns]"
      ]
     },
     "execution_count": 6,
     "metadata": {},
     "output_type": "execute_result"
    }
   ],
   "source": [
    "data.head()"
   ]
  },
  {
   "cell_type": "code",
   "execution_count": 7,
   "id": "e94f3203",
   "metadata": {},
   "outputs": [
    {
     "data": {
      "text/plain": [
       "0    33563901\n",
       "1     6865066\n",
       "Name: click, dtype: int64"
      ]
     },
     "execution_count": 7,
     "metadata": {},
     "output_type": "execute_result"
    }
   ],
   "source": [
    "data['click'].value_counts()"
   ]
  },
  {
   "cell_type": "markdown",
   "id": "6fcdb89a",
   "metadata": {},
   "source": [
    "Creating a smaller dataset so my models will run."
   ]
  },
  {
   "cell_type": "code",
   "execution_count": 8,
   "id": "9f9baa63",
   "metadata": {},
   "outputs": [
    {
     "name": "stdout",
     "output_type": "stream",
     "text": [
      "(33563901, 22) (6865066, 22)\n"
     ]
    }
   ],
   "source": [
    "data_0 = data[data['click']==0]\n",
    "data_1 = data[data['click']==1]\n",
    "print(data_0.shape, data_1.shape)"
   ]
  },
  {
   "cell_type": "code",
   "execution_count": 9,
   "id": "f7dae90d",
   "metadata": {},
   "outputs": [
    {
     "data": {
      "text/plain": [
       "(335639, 22)"
      ]
     },
     "execution_count": 9,
     "metadata": {},
     "output_type": "execute_result"
    }
   ],
   "source": [
    "data_0 = data_0.sample(frac=0.01, random_state=42)\n",
    "data_0.shape"
   ]
  },
  {
   "cell_type": "code",
   "execution_count": 10,
   "id": "ae3102f5",
   "metadata": {},
   "outputs": [
    {
     "data": {
      "text/plain": [
       "(205952, 22)"
      ]
     },
     "execution_count": 10,
     "metadata": {},
     "output_type": "execute_result"
    }
   ],
   "source": [
    "data_1 = data_1.sample(frac=0.03, random_state=42)\n",
    "data_1.shape"
   ]
  },
  {
   "cell_type": "code",
   "execution_count": 11,
   "id": "fa1f0398",
   "metadata": {},
   "outputs": [
    {
     "data": {
      "text/plain": [
       "0    335639\n",
       "1    205952\n",
       "Name: click, dtype: int64"
      ]
     },
     "execution_count": 11,
     "metadata": {},
     "output_type": "execute_result"
    }
   ],
   "source": [
    "data_sample = pd.concat([data_0, data_1], axis = 0, ignore_index=True)\n",
    "data_sample['click'].value_counts()"
   ]
  },
  {
   "cell_type": "markdown",
   "id": "81592502",
   "metadata": {},
   "source": [
    "There is also no need to standardize my values because most of them are categorical and the rest are unknown variables (C14 - C21). "
   ]
  },
  {
   "cell_type": "code",
   "execution_count": 12,
   "id": "3d6f7891",
   "metadata": {},
   "outputs": [],
   "source": [
    "#Here I will create my training and testing data splits. \n",
    "\n",
    "from sklearn.model_selection import train_test_split\n",
    "\n",
    "columns = ['hour', 'C1', 'banner_pos', 'device_type', 'device_conn_type', 'C14', 'C15', 'C16', 'C17', 'C18', 'C19', 'C20', 'C21']\n",
    "X = data_sample[columns]\n",
    "y = data_sample.click\n",
    "\n",
    "X_train, X_test, y_train, y_test = train_test_split(X, y, test_size=0.2, random_state=100, stratify=y)"
   ]
  },
  {
   "cell_type": "code",
   "execution_count": 13,
   "id": "a5839ce0",
   "metadata": {},
   "outputs": [
    {
     "data": {
      "text/plain": [
       "((433272, 13), (108319, 13), (433272,), (108319,))"
      ]
     },
     "execution_count": 13,
     "metadata": {},
     "output_type": "execute_result"
    }
   ],
   "source": [
    "X_train.shape, X_test.shape, y_train.shape, y_test.shape"
   ]
  },
  {
   "cell_type": "markdown",
   "id": "acfa4751",
   "metadata": {},
   "source": [
    "### First Model: Logistic Regression"
   ]
  },
  {
   "cell_type": "code",
   "execution_count": 14,
   "id": "ac9fb0af",
   "metadata": {},
   "outputs": [
    {
     "data": {
      "text/plain": [
       "LogisticRegression(random_state=0, solver='liblinear')"
      ]
     },
     "execution_count": 14,
     "metadata": {},
     "output_type": "execute_result"
    }
   ],
   "source": [
    "from sklearn.linear_model import LogisticRegression\n",
    "lr = LogisticRegression(solver = 'liblinear', random_state=0)\n",
    "lr.fit(X_train, y_train)"
   ]
  },
  {
   "cell_type": "code",
   "execution_count": 15,
   "id": "d15ab45c",
   "metadata": {},
   "outputs": [],
   "source": [
    "y_pred = lr.predict(X_test)"
   ]
  },
  {
   "cell_type": "code",
   "execution_count": 16,
   "id": "1f4f2f08",
   "metadata": {},
   "outputs": [
    {
     "name": "stdout",
     "output_type": "stream",
     "text": [
      "[[65199  1929]\n",
      " [39774  1417]]\n"
     ]
    }
   ],
   "source": [
    "from sklearn.metrics import confusion_matrix\n",
    "from sklearn.metrics import accuracy_score\n",
    "from sklearn.metrics import classification_report\n",
    "\n",
    "matrix = confusion_matrix(y_test, y_pred)\n",
    "print(matrix)"
   ]
  },
  {
   "cell_type": "markdown",
   "id": "ae69f6c6",
   "metadata": {},
   "source": [
    "The confusion matrix shows:\n",
    "\n",
    "True Positive + True Negative = 6712253 + 0 = 6712253\n",
    "False Positive + False Negative = 0 + 1373541\n",
    "\n",
    "Recall = 0.83,\n",
    "Precision = 1,\n",
    "Accuracy = 0.83"
   ]
  },
  {
   "cell_type": "code",
   "execution_count": 17,
   "id": "fdf2d3a2",
   "metadata": {},
   "outputs": [
    {
     "name": "stdout",
     "output_type": "stream",
     "text": [
      "              precision    recall  f1-score   support\n",
      "\n",
      "           0       0.62      0.97      0.76     67128\n",
      "           1       0.42      0.03      0.06     41191\n",
      "\n",
      "    accuracy                           0.61    108319\n",
      "   macro avg       0.52      0.50      0.41    108319\n",
      "weighted avg       0.55      0.61      0.49    108319\n",
      "\n",
      "Accuracy Score:  0.6149982920817216\n"
     ]
    }
   ],
   "source": [
    "report = classification_report(y_test, y_pred)\n",
    "lr_accuracy = accuracy_score(y_test, y_pred)\n",
    "print(report)\n",
    "print('Accuracy Score: ', lr_accuracy)"
   ]
  },
  {
   "cell_type": "code",
   "execution_count": 18,
   "id": "de5cadda",
   "metadata": {},
   "outputs": [
    {
     "name": "stdout",
     "output_type": "stream",
     "text": [
      "[0.56904185 0.57170646 0.56874493 0.56117495 0.56779267]\n",
      "Mean cross validation test score: 0.5676921711582379\n",
      "Mean cross validation train score: 0.5684506178500486\n",
      "Standard deviation in cv test scores: 0.0035079554870482425\n"
     ]
    }
   ],
   "source": [
    "from sklearn.model_selection import cross_val_score\n",
    "\n",
    "cv_test= cross_val_score(lr,X_test,y_test,cv=5,scoring='roc_auc')\n",
    "cv_train= cross_val_score(lr,X_train,y_train,cv=5,scoring='roc_auc')\n",
    "print(cv_test)\n",
    "cv_test_mean = cv_test.mean()\n",
    "cv_train_mean = cv_train.mean()\n",
    "cv_test_std = cv_test.std()\n",
    "print('Mean cross validation test score: ' +str(cv_test_mean))\n",
    "print('Mean cross validation train score: ' +str(cv_train_mean))\n",
    "print('Standard deviation in cv test scores: ' +str(cv_test_std))"
   ]
  },
  {
   "cell_type": "markdown",
   "id": "8e6c9a00",
   "metadata": {},
   "source": [
    "### Second Model: Random Forest"
   ]
  },
  {
   "cell_type": "code",
   "execution_count": 19,
   "id": "dce73104",
   "metadata": {},
   "outputs": [
    {
     "data": {
      "text/plain": [
       "((433272, 13), (108319, 13), (433272,), (108319,))"
      ]
     },
     "execution_count": 19,
     "metadata": {},
     "output_type": "execute_result"
    }
   ],
   "source": [
    "columns = ['hour', 'C1', 'banner_pos', 'device_type', 'device_conn_type', 'C14', 'C15', 'C16', 'C17', 'C18', 'C19', 'C20', 'C21']\n",
    "X = data_sample[columns]\n",
    "y = data_sample.click\n",
    "\n",
    "X_train, X_test, y_train, y_test = train_test_split(X, y, test_size=0.2, random_state=100, stratify=y)\n",
    "X_train.shape, X_test.shape, y_train.shape, y_test.shape"
   ]
  },
  {
   "cell_type": "code",
   "execution_count": 20,
   "id": "fcca70c1",
   "metadata": {},
   "outputs": [],
   "source": [
    "from sklearn.ensemble import RandomForestClassifier\n",
    "\n",
    "rf = RandomForestClassifier()\n",
    "rf.fit(X_train, y_train)\n",
    "y_pred = rf.predict(X_test)"
   ]
  },
  {
   "cell_type": "code",
   "execution_count": 21,
   "id": "2b2ff207",
   "metadata": {},
   "outputs": [
    {
     "name": "stdout",
     "output_type": "stream",
     "text": [
      "[[50486 16642]\n",
      " [22593 18598]]\n"
     ]
    }
   ],
   "source": [
    "matrix = confusion_matrix(y_test, y_pred)\n",
    "print(matrix)"
   ]
  },
  {
   "cell_type": "code",
   "execution_count": 22,
   "id": "a84997f1",
   "metadata": {},
   "outputs": [
    {
     "name": "stdout",
     "output_type": "stream",
     "text": [
      "              precision    recall  f1-score   support\n",
      "\n",
      "           0       0.69      0.75      0.72     67128\n",
      "           1       0.53      0.45      0.49     41191\n",
      "\n",
      "    accuracy                           0.64    108319\n",
      "   macro avg       0.61      0.60      0.60    108319\n",
      "weighted avg       0.63      0.64      0.63    108319\n",
      "\n",
      "Accuracy Score:  0.6377828451148921\n"
     ]
    }
   ],
   "source": [
    "report = classification_report(y_test, y_pred)\n",
    "rf_accuracy = accuracy_score(y_test, y_pred)\n",
    "print(report)\n",
    "print('Accuracy Score: ', rf_accuracy)"
   ]
  },
  {
   "cell_type": "code",
   "execution_count": 23,
   "id": "07017b60",
   "metadata": {},
   "outputs": [
    {
     "name": "stdout",
     "output_type": "stream",
     "text": [
      "[0.63983914 0.63203599 0.64046306 0.63785728 0.64052348]\n",
      "Mean cross validation test score: 0.6381437886637685\n",
      "Mean cross validation train score: 0.6528238289912107\n",
      "Standard deviation in cv test scores: 0.0032032318344256297\n"
     ]
    }
   ],
   "source": [
    "cv_test= cross_val_score(rf,X_test,y_test,cv=5,scoring='roc_auc')\n",
    "cv_train= cross_val_score(rf,X_train,y_train,cv=5,scoring='roc_auc')\n",
    "print(cv_test)\n",
    "cv_test_mean = cv_test.mean()\n",
    "cv_train_mean = cv_train.mean()\n",
    "cv_test_std = cv_test.std()\n",
    "print('Mean cross validation test score: ' +str(cv_test_mean))\n",
    "print('Mean cross validation train score: ' +str(cv_train_mean))\n",
    "print('Standard deviation in cv test scores: ' +str(cv_test_std))"
   ]
  },
  {
   "cell_type": "markdown",
   "id": "b48b7278",
   "metadata": {},
   "source": [
    "##### Comparing Models\n",
    "My Random Forest model had better results than the Logistic Regression model, especially for the minority click group. Therefore, I will try a Gradient Boosting model next, rather than a Decision Tree model, and identify which model of the three is the best."
   ]
  },
  {
   "cell_type": "markdown",
   "id": "ed3287d0",
   "metadata": {},
   "source": [
    "### Third Model: Gradient Boosting"
   ]
  },
  {
   "cell_type": "code",
   "execution_count": 24,
   "id": "f4edd98d",
   "metadata": {},
   "outputs": [],
   "source": [
    "from sklearn import preprocessing\n",
    "from sklearn.ensemble import GradientBoostingClassifier\n",
    "from sklearn.metrics import roc_curve, auc"
   ]
  },
  {
   "cell_type": "code",
   "execution_count": 25,
   "id": "7d7b5723",
   "metadata": {},
   "outputs": [
    {
     "name": "stdout",
     "output_type": "stream",
     "text": [
      "Learning rate:  0.05\n",
      "Accuracy score (training): 0.631\n",
      "Accuracy score (validation): 0.631\n",
      "\n",
      "Learning rate:  0.1\n",
      "Accuracy score (training): 0.643\n",
      "Accuracy score (validation): 0.644\n",
      "\n",
      "Learning rate:  0.25\n",
      "Accuracy score (training): 0.647\n",
      "Accuracy score (validation): 0.649\n",
      "\n",
      "Learning rate:  0.5\n",
      "Accuracy score (training): 0.648\n",
      "Accuracy score (validation): 0.651\n",
      "\n",
      "Learning rate:  0.75\n",
      "Accuracy score (training): 0.650\n",
      "Accuracy score (validation): 0.653\n",
      "\n",
      "Learning rate:  1\n",
      "Accuracy score (training): 0.650\n",
      "Accuracy score (validation): 0.654\n",
      "\n"
     ]
    }
   ],
   "source": [
    "#testing different learning rates to find the most optimal one\n",
    "learning_rates = [0.05, 0.1, 0.25, 0.5, 0.75, 1]\n",
    "for rate in learning_rates:\n",
    "    gb = GradientBoostingClassifier(n_estimators=20, learning_rate = rate, max_features=2, max_depth = 2, random_state = 0)\n",
    "    gb.fit(X_train, y_train)\n",
    "    print(\"Learning rate: \", rate)\n",
    "    print(\"Accuracy score (training): {0:.3f}\".format(gb.score(X_train, y_train)))\n",
    "    print(\"Accuracy score (validation): {0:.3f}\".format(gb.score(X_test, y_test)))\n",
    "    print()"
   ]
  },
  {
   "cell_type": "code",
   "execution_count": 26,
   "id": "bf20c084",
   "metadata": {},
   "outputs": [
    {
     "name": "stdout",
     "output_type": "stream",
     "text": [
      "[[60186  6942]\n",
      " [30531 10660]]\n",
      "              precision    recall  f1-score   support\n",
      "\n",
      "           0       0.66      0.90      0.76     67128\n",
      "           1       0.61      0.26      0.36     41191\n",
      "\n",
      "    accuracy                           0.65    108319\n",
      "   macro avg       0.63      0.58      0.56    108319\n",
      "weighted avg       0.64      0.65      0.61    108319\n",
      "\n",
      "0.6540496127179903\n"
     ]
    }
   ],
   "source": [
    "#now I apply the best learning rate found previously, which is 1.\n",
    "bestgb = GradientBoostingClassifier(n_estimators=20, learning_rate = 1, max_features=2, max_depth = 2, random_state = 0)\n",
    "bestgb.fit(X_train, y_train)\n",
    "y_pred = bestgb.predict(X_test)\n",
    "gb_accuracy = accuracy_score(y_test, y_pred)\n",
    "print(confusion_matrix(y_test, y_pred))\n",
    "print(classification_report(y_test, y_pred))\n",
    "print(gb_accuracy)"
   ]
  },
  {
   "cell_type": "code",
   "execution_count": 27,
   "id": "f3bcca7e",
   "metadata": {},
   "outputs": [
    {
     "name": "stdout",
     "output_type": "stream",
     "text": [
      "[0.67245329 0.66695963 0.67128813 0.67956636 0.67452751]\n",
      "Mean cross validation test score: 0.6729589833945869\n",
      "Mean cross validation train score: 0.6681433491516522\n",
      "Standard deviation in cv test scores: 0.004126920509444569\n"
     ]
    }
   ],
   "source": [
    "cv_test= cross_val_score(bestgb,X_test,y_test,cv=5,scoring='roc_auc')\n",
    "cv_train= cross_val_score(bestgb,X_train,y_train,cv=5,scoring='roc_auc')\n",
    "print(cv_test)\n",
    "cv_test_mean = cv_test.mean()\n",
    "cv_train_mean = cv_train.mean()\n",
    "cv_test_std = cv_test.std()\n",
    "print('Mean cross validation test score: ' +str(cv_test_mean))\n",
    "print('Mean cross validation train score: ' +str(cv_train_mean))\n",
    "print('Standard deviation in cv test scores: ' +str(cv_test_std))"
   ]
  },
  {
   "cell_type": "code",
   "execution_count": 28,
   "id": "5c0233cd",
   "metadata": {},
   "outputs": [
    {
     "name": "stdout",
     "output_type": "stream",
     "text": [
      "Logistic Regression Accuracy Score:  0.6149982920817216\n",
      "Random Forest Accuracy Score:  0.6377828451148921\n",
      "Gradient Boosting Accuracy Score:  0.6540496127179903\n"
     ]
    }
   ],
   "source": [
    "#comparison of accuracy scores for all \n",
    "\n",
    "print('Logistic Regression Accuracy Score: ', lr_accuracy)\n",
    "print('Random Forest Accuracy Score: ', rf_accuracy)\n",
    "print('Gradient Boosting Accuracy Score: ', gb_accuracy)"
   ]
  },
  {
   "cell_type": "markdown",
   "id": "c748503f",
   "metadata": {},
   "source": [
    "### Using balanced data for all three models"
   ]
  },
  {
   "cell_type": "markdown",
   "id": "d3d040c4",
   "metadata": {},
   "source": [
    "Because we did not receive amazing performance metric results, we will try RandomOverSampler from Imbalanced-learn to create new x and y, in which the data are more balanced. I will fit the three models to the new training sets and test the new testing sets to see if we get better scores."
   ]
  },
  {
   "cell_type": "code",
   "execution_count": 29,
   "id": "af2d1f84",
   "metadata": {},
   "outputs": [],
   "source": [
    "from imblearn.over_sampling import RandomOverSampler \n",
    "randomsample = RandomOverSampler()\n",
    "X_new, y_new = randomsample.fit_resample(X, y)"
   ]
  },
  {
   "cell_type": "code",
   "execution_count": 30,
   "id": "5028c239",
   "metadata": {},
   "outputs": [
    {
     "name": "stdout",
     "output_type": "stream",
     "text": [
      "Original dataset shape  Counter({0: 335639, 1: 205952})\n",
      "Resampled dataset shape Counter({0: 335639, 1: 335639})\n"
     ]
    },
    {
     "name": "stderr",
     "output_type": "stream",
     "text": [
      "C:\\Users\\amand\\anaconda3\\lib\\site-packages\\seaborn\\_decorators.py:36: FutureWarning: Pass the following variable as a keyword arg: x. From version 0.12, the only valid positional argument will be `data`, and passing other arguments without an explicit keyword will result in an error or misinterpretation.\n",
      "  warnings.warn(\n"
     ]
    },
    {
     "data": {
      "image/png": "[encoded data removed]",
      "text/plain": [
       "<Figure size 432x288 with 1 Axes>"
      ]
     },
     "metadata": {
      "needs_background": "light"
     },
     "output_type": "display_data"
    }
   ],
   "source": [
    "from collections import Counter\n",
    "print('Original dataset shape  {}'.format(Counter(y)))\n",
    "print('Resampled dataset shape {}'.format(Counter(y_new)))\n",
    "sns.countplot(y_new, palette='husl')\n",
    "plt.show()"
   ]
  },
  {
   "cell_type": "code",
   "execution_count": 31,
   "id": "b7e57987",
   "metadata": {},
   "outputs": [],
   "source": [
    "X_new_train, X_new_test, y_new_train, y_new_test = train_test_split(X_new, y_new, test_size=0.2, random_state=100, stratify=y_new)"
   ]
  },
  {
   "cell_type": "code",
   "execution_count": 32,
   "id": "47da6fb3",
   "metadata": {},
   "outputs": [
    {
     "name": "stdout",
     "output_type": "stream",
     "text": [
      "(537022, 13) (134256, 13) (537022,) (134256,)\n"
     ]
    }
   ],
   "source": [
    "print(X_new_train.shape, X_new_test.shape, y_new_train.shape, y_new_test.shape)"
   ]
  },
  {
   "cell_type": "markdown",
   "id": "f7ecfb3b",
   "metadata": {},
   "source": [
    "#### Logstic Regression Model with Balanced Data"
   ]
  },
  {
   "cell_type": "code",
   "execution_count": 33,
   "id": "93db0e98",
   "metadata": {},
   "outputs": [],
   "source": [
    "from sklearn.linear_model import LogisticRegression\n",
    "lr = LogisticRegression(solver = 'liblinear', random_state=0)\n",
    "lr.fit(X_new_train, y_new_train)\n",
    "y_new_pred = lr.predict(X_new_test)"
   ]
  },
  {
   "cell_type": "code",
   "execution_count": 34,
   "id": "0369cf74",
   "metadata": {},
   "outputs": [
    {
     "name": "stdout",
     "output_type": "stream",
     "text": [
      "              precision    recall  f1-score   support\n",
      "\n",
      "           0       0.58      0.64      0.61     67128\n",
      "           1       0.60      0.53      0.56     67128\n",
      "\n",
      "    accuracy                           0.59    134256\n",
      "   macro avg       0.59      0.59      0.59    134256\n",
      "weighted avg       0.59      0.59      0.59    134256\n",
      "\n",
      "Accuracy Score:  0.5881152425217495\n"
     ]
    }
   ],
   "source": [
    "report = classification_report(y_new_test, y_new_pred)\n",
    "lr_accuracy = accuracy_score(y_new_test, y_new_pred)\n",
    "print(report)\n",
    "print('Accuracy Score: ', lr_accuracy)"
   ]
  },
  {
   "cell_type": "markdown",
   "id": "c5d9b680",
   "metadata": {},
   "source": [
    "#### Random Forest Model with Balanced Data"
   ]
  },
  {
   "cell_type": "code",
   "execution_count": 35,
   "id": "cd5e2fd9",
   "metadata": {},
   "outputs": [],
   "source": [
    "rf = RandomForestClassifier()\n",
    "rf.fit(X_new_train, y_new_train)\n",
    "y_new_pred = rf.predict(X_new_test)"
   ]
  },
  {
   "cell_type": "code",
   "execution_count": 36,
   "id": "f5d43feb",
   "metadata": {},
   "outputs": [
    {
     "name": "stdout",
     "output_type": "stream",
     "text": [
      "              precision    recall  f1-score   support\n",
      "\n",
      "           0       0.68      0.63      0.65     67128\n",
      "           1       0.66      0.71      0.68     67128\n",
      "\n",
      "    accuracy                           0.67    134256\n",
      "   macro avg       0.67      0.67      0.67    134256\n",
      "weighted avg       0.67      0.67      0.67    134256\n",
      "\n",
      "Accuracy Score:  0.6680073888690263\n"
     ]
    }
   ],
   "source": [
    "report = classification_report(y_new_test, y_new_pred)\n",
    "rf_accuracy = accuracy_score(y_new_test, y_new_pred)\n",
    "print(report)\n",
    "print('Accuracy Score: ', rf_accuracy)"
   ]
  },
  {
   "cell_type": "code",
   "execution_count": 37,
   "id": "74a63fed",
   "metadata": {},
   "outputs": [
    {
     "data": {
      "text/plain": [
       "{'bootstrap': True,\n",
       " 'ccp_alpha': 0.0,\n",
       " 'class_weight': None,\n",
       " 'criterion': 'gini',\n",
       " 'max_depth': None,\n",
       " 'max_features': 'auto',\n",
       " 'max_leaf_nodes': None,\n",
       " 'max_samples': None,\n",
       " 'min_impurity_decrease': 0.0,\n",
       " 'min_samples_leaf': 1,\n",
       " 'min_samples_split': 2,\n",
       " 'min_weight_fraction_leaf': 0.0,\n",
       " 'n_estimators': 100,\n",
       " 'n_jobs': None,\n",
       " 'oob_score': False,\n",
       " 'random_state': None,\n",
       " 'verbose': 0,\n",
       " 'warm_start': False}"
      ]
     },
     "execution_count": 37,
     "metadata": {},
     "output_type": "execute_result"
    }
   ],
   "source": [
    "rf.get_params()"
   ]
  },
  {
   "cell_type": "markdown",
   "id": "9935e168",
   "metadata": {},
   "source": [
    "#### Gradient Boosting Model with Balanced Data"
   ]
  },
  {
   "cell_type": "code",
   "execution_count": 38,
   "id": "516eaa6a",
   "metadata": {},
   "outputs": [
    {
     "name": "stdout",
     "output_type": "stream",
     "text": [
      "Learning rate:  0.05\n",
      "Accuracy score (training): 0.593\n",
      "Accuracy score (validation): 0.594\n",
      "\n",
      "Learning rate:  0.1\n",
      "Accuracy score (training): 0.597\n",
      "Accuracy score (validation): 0.599\n",
      "\n",
      "Learning rate:  0.25\n",
      "Accuracy score (training): 0.605\n",
      "Accuracy score (validation): 0.607\n",
      "\n",
      "Learning rate:  0.5\n",
      "Accuracy score (training): 0.614\n",
      "Accuracy score (validation): 0.613\n",
      "\n",
      "Learning rate:  0.75\n",
      "Accuracy score (training): 0.621\n",
      "Accuracy score (validation): 0.621\n",
      "\n",
      "Learning rate:  1\n",
      "Accuracy score (training): 0.623\n",
      "Accuracy score (validation): 0.622\n",
      "\n"
     ]
    }
   ],
   "source": [
    "learning_rates = [0.05, 0.1, 0.25, 0.5, 0.75, 1]\n",
    "for rate in learning_rates:\n",
    "    gb = GradientBoostingClassifier(n_estimators=20, learning_rate = rate, max_features=2, max_depth = 2, random_state = 0)\n",
    "    gb.fit(X_new_train, y_new_train)\n",
    "    print(\"Learning rate: \", rate)\n",
    "    print(\"Accuracy score (training): {0:.3f}\".format(gb.score(X_new_train, y_new_train)))\n",
    "    print(\"Accuracy score (validation): {0:.3f}\".format(gb.score(X_new_test, y_new_test)))\n",
    "    print()"
   ]
  },
  {
   "cell_type": "code",
   "execution_count": 39,
   "id": "c0d4aa23",
   "metadata": {},
   "outputs": [
    {
     "name": "stdout",
     "output_type": "stream",
     "text": [
      "[[38343 28785]\n",
      " [21907 45221]]\n",
      "              precision    recall  f1-score   support\n",
      "\n",
      "           0       0.64      0.57      0.60     67128\n",
      "           1       0.61      0.67      0.64     67128\n",
      "\n",
      "    accuracy                           0.62    134256\n",
      "   macro avg       0.62      0.62      0.62    134256\n",
      "weighted avg       0.62      0.62      0.62    134256\n",
      "\n",
      "0.6224228339887975\n"
     ]
    }
   ],
   "source": [
    "bestgb = GradientBoostingClassifier(n_estimators=20, learning_rate = 1, max_features=2, max_depth = 2, random_state = 0)\n",
    "bestgb.fit(X_new_train, y_new_train)\n",
    "y_new_pred = bestgb.predict(X_new_test)\n",
    "gb_accuracy = accuracy_score(y_new_test, y_new_pred)\n",
    "print(confusion_matrix(y_new_test, y_new_pred))\n",
    "print(classification_report(y_new_test, y_new_pred))\n",
    "print(gb_accuracy)"
   ]
  },
  {
   "cell_type": "markdown",
   "id": "60842ad6",
   "metadata": {},
   "source": [
    "##### Analysis: "
   ]
  },
  {
   "cell_type": "markdown",
   "id": "f01b6120",
   "metadata": {},
   "source": [
    "The Random Forest with randomoversampling method is the most accurate and had the best scores. However, the scores are not ideal because they are all around 0.6. Now that I have made the scores pretty even between the click values 0 and 1, I will try to hyperparameterize to find the best parameters to get better scores. "
   ]
  },
  {
   "cell_type": "markdown",
   "id": "f8cec750",
   "metadata": {},
   "source": [
    "#### Parametric Tuning, applying GridsearchCV for hyperparameter tuning for Random Forest Model"
   ]
  },
  {
   "cell_type": "code",
   "execution_count": 40,
   "id": "c32e8c10",
   "metadata": {},
   "outputs": [],
   "source": [
    "from sklearn.experimental import enable_halving_search_cv \n",
    "from sklearn.model_selection import HalvingGridSearchCV\n",
    "from sklearn.model_selection import GridSearchCV\n",
    "from sklearn.model_selection import RandomizedSearchCV"
   ]
  },
  {
   "cell_type": "markdown",
   "id": "d0f07156",
   "metadata": {},
   "source": [
    "Here we tried to several different hyperparameter tuning methods to acquire the best hyperparameters, but they wouldn't finish running. "
   ]
  },
  {
   "cell_type": "code",
   "execution_count": 41,
   "id": "0903493b",
   "metadata": {},
   "outputs": [],
   "source": [
    "# rf = RandomForestClassifier()\n",
    "# forest_params = {'max_features': ['auto', 'sqrt', 'log2'],\n",
    "#     'max_depth' : [4,5,6,7,8],\n",
    "#     'criterion' :['gini', 'entropy']}\n",
    "# halving_cv = HalvingGridSearchCV(rf, forest_params)\n",
    "# halving_cv.fit(X_new_train, y_new_train)\n",
    "# print(halving_cv.best_params_)"
   ]
  },
  {
   "cell_type": "code",
   "execution_count": 42,
   "id": "1e8a2b0f",
   "metadata": {},
   "outputs": [],
   "source": [
    "# rf = RandomForestClassifier()\n",
    "# forest_params = {'n_estimators': [200, 500],\n",
    "#     'max_features': ['auto', 'sqrt', 'log2'],\n",
    "#     'max_depth' : [4,5,6,7,8],\n",
    "#     'criterion' :['gini', 'entropy']}\n",
    "# clf = GridSearchCV(rf, forest_params, scoring='accuracy', cv=3)\n",
    "# clf.fit(X_new_train, y_new_train)\n",
    "# print(clf.best_params_)"
   ]
  },
  {
   "cell_type": "code",
   "execution_count": 43,
   "id": "f967fc8a",
   "metadata": {},
   "outputs": [],
   "source": [
    "# rf = RandomForestClassifier()\n",
    "\n",
    "# n_estimators = [int(x) for x in np.linspace(start = 200, stop = 2000, num = 10)]\n",
    "# # Number of features to consider at every split\n",
    "# max_features = ['auto', 'sqrt']\n",
    "# # Maximum number of levels in tree\n",
    "# max_depth = [int(x) for x in np.linspace(10, 60, num = 11)]\n",
    "# max_depth.append(None)\n",
    "# # Minimum number of samples required to split a node\n",
    "# min_samples_split = [2, 5, 10]\n",
    "# # Minimum number of samples required at each leaf node\n",
    "# min_samples_leaf = [1, 2, 4]\n",
    "# # Method of selecting samples for training each tree\n",
    "# bootstrap = [True, False]\n",
    "\n",
    "# random_grid = {'n_estimators': n_estimators,\n",
    "#                'max_features': max_features,\n",
    "#                'max_depth': max_depth,\n",
    "#                'min_samples_split': min_samples_split,\n",
    "#                'min_samples_leaf': min_samples_leaf,\n",
    "#                'bootstrap': bootstrap}\n",
    "# rf_random = RandomizedSearchCV(estimator = rf, param_distributions = random_grid, n_iter = 5, cv = 3, verbose=2, random_state=42, n_jobs = -1)\n",
    "# rf_random.fit(X_new_train, y_new_train)\n",
    "# print(rf_random.best_params_)"
   ]
  },
  {
   "cell_type": "code",
   "execution_count": 44,
   "id": "fe27dcba",
   "metadata": {},
   "outputs": [
    {
     "name": "stdout",
     "output_type": "stream",
     "text": [
      "Fitting 3 folds for each of 5 candidates, totalling 15 fits\n",
      "{'n_estimators': 200}\n"
     ]
    }
   ],
   "source": [
    "from sklearn.model_selection import GridSearchCV\n",
    "rf = RandomForestClassifier()\n",
    "forest_params = {'n_estimators': [200,300,400,500,600]}\n",
    "clf = GridSearchCV(rf, forest_params, scoring='accuracy', cv=3, n_jobs=-1, verbose=1)\n",
    "clf.fit(X_new_train, y_new_train)\n",
    "print(clf.best_params_)"
   ]
  },
  {
   "cell_type": "markdown",
   "id": "004b47f3",
   "metadata": {},
   "source": [
    "Therefore, we simplified our GridSearchCV to get the best number of estimators, which was 600. We will tune our random forest model to the new set of optimized parameters."
   ]
  },
  {
   "cell_type": "markdown",
   "id": "79b5a9ae",
   "metadata": {},
   "source": [
    "#### Fitting Random Forest model with Optimal Hyperparameters"
   ]
  },
  {
   "cell_type": "code",
   "execution_count": 45,
   "id": "471087b8",
   "metadata": {},
   "outputs": [
    {
     "name": "stderr",
     "output_type": "stream",
     "text": [
      "[Parallel(n_jobs=-1)]: Using backend ThreadingBackend with 20 concurrent workers.\n",
      "[Parallel(n_jobs=-1)]: Done  10 tasks      | elapsed:    4.9s\n",
      "[Parallel(n_jobs=-1)]: Done 160 tasks      | elapsed:   42.2s\n",
      "[Parallel(n_jobs=-1)]: Done 410 tasks      | elapsed:  1.8min\n",
      "[Parallel(n_jobs=-1)]: Done 600 out of 600 | elapsed:  2.6min finished\n",
      "[Parallel(n_jobs=20)]: Using backend ThreadingBackend with 20 concurrent workers.\n",
      "[Parallel(n_jobs=20)]: Done  10 tasks      | elapsed:    0.2s\n",
      "[Parallel(n_jobs=20)]: Done 160 tasks      | elapsed:    2.1s\n",
      "[Parallel(n_jobs=20)]: Done 410 tasks      | elapsed:    5.6s\n",
      "[Parallel(n_jobs=20)]: Done 600 out of 600 | elapsed:    8.3s finished\n",
      "[Parallel(n_jobs=-1)]: Using backend LokyBackend with 20 concurrent workers.\n",
      "[Parallel(n_jobs=-1)]: Done  10 tasks      | elapsed:    0.8s\n",
      "[Parallel(n_jobs=-1)]: Done 160 tasks      | elapsed:    8.3s\n",
      "[Parallel(n_jobs=-1)]: Done 410 tasks      | elapsed:   15.6s\n",
      "[Parallel(n_jobs=-1)]: Done 600 out of 600 | elapsed:   20.8s finished\n",
      "[Parallel(n_jobs=20)]: Using backend ThreadingBackend with 20 concurrent workers.\n",
      "[Parallel(n_jobs=20)]: Done  10 tasks      | elapsed:    0.0s\n",
      "[Parallel(n_jobs=20)]: Done 160 tasks      | elapsed:    0.1s\n",
      "[Parallel(n_jobs=20)]: Done 410 tasks      | elapsed:    0.5s\n",
      "[Parallel(n_jobs=20)]: Done 600 out of 600 | elapsed:    0.8s finished\n",
      "[Parallel(n_jobs=-1)]: Using backend LokyBackend with 20 concurrent workers.\n",
      "[Parallel(n_jobs=-1)]: Done  10 tasks      | elapsed:    0.5s\n",
      "[Parallel(n_jobs=-1)]: Done 160 tasks      | elapsed:    5.0s\n",
      "[Parallel(n_jobs=-1)]: Done 410 tasks      | elapsed:   11.6s\n",
      "[Parallel(n_jobs=-1)]: Done 600 out of 600 | elapsed:   16.8s finished\n",
      "[Parallel(n_jobs=20)]: Using backend ThreadingBackend with 20 concurrent workers.\n",
      "[Parallel(n_jobs=20)]: Done  10 tasks      | elapsed:    0.0s\n",
      "[Parallel(n_jobs=20)]: Done 160 tasks      | elapsed:    0.2s\n",
      "[Parallel(n_jobs=20)]: Done 410 tasks      | elapsed:    0.5s\n",
      "[Parallel(n_jobs=20)]: Done 600 out of 600 | elapsed:    0.7s finished\n",
      "[Parallel(n_jobs=-1)]: Using backend LokyBackend with 20 concurrent workers.\n",
      "[Parallel(n_jobs=-1)]: Done  10 tasks      | elapsed:    0.6s\n",
      "[Parallel(n_jobs=-1)]: Done 160 tasks      | elapsed:    4.6s\n",
      "[Parallel(n_jobs=-1)]: Done 410 tasks      | elapsed:   11.4s\n",
      "[Parallel(n_jobs=-1)]: Done 600 out of 600 | elapsed:   16.6s finished\n",
      "[Parallel(n_jobs=20)]: Using backend ThreadingBackend with 20 concurrent workers.\n",
      "[Parallel(n_jobs=20)]: Done  10 tasks      | elapsed:    0.0s\n",
      "[Parallel(n_jobs=20)]: Done 160 tasks      | elapsed:    0.2s\n",
      "[Parallel(n_jobs=20)]: Done 410 tasks      | elapsed:    0.5s\n",
      "[Parallel(n_jobs=20)]: Done 600 out of 600 | elapsed:    0.7s finished\n",
      "[Parallel(n_jobs=-1)]: Using backend LokyBackend with 20 concurrent workers.\n",
      "[Parallel(n_jobs=-1)]: Done  10 tasks      | elapsed:    0.5s\n",
      "[Parallel(n_jobs=-1)]: Done 160 tasks      | elapsed:    4.5s\n",
      "[Parallel(n_jobs=-1)]: Done 410 tasks      | elapsed:   11.2s\n",
      "[Parallel(n_jobs=-1)]: Done 600 out of 600 | elapsed:   16.0s finished\n",
      "[Parallel(n_jobs=20)]: Using backend ThreadingBackend with 20 concurrent workers.\n",
      "[Parallel(n_jobs=20)]: Done  10 tasks      | elapsed:    0.0s\n",
      "[Parallel(n_jobs=20)]: Done 160 tasks      | elapsed:    0.2s\n",
      "[Parallel(n_jobs=20)]: Done 410 tasks      | elapsed:    0.5s\n",
      "[Parallel(n_jobs=20)]: Done 600 out of 600 | elapsed:    0.7s finished\n",
      "[Parallel(n_jobs=-1)]: Using backend LokyBackend with 20 concurrent workers.\n",
      "[Parallel(n_jobs=-1)]: Done  10 tasks      | elapsed:    0.5s\n",
      "[Parallel(n_jobs=-1)]: Done 160 tasks      | elapsed:    4.5s\n",
      "[Parallel(n_jobs=-1)]: Done 410 tasks      | elapsed:   11.2s\n",
      "[Parallel(n_jobs=-1)]: Done 600 out of 600 | elapsed:   16.0s finished\n",
      "[Parallel(n_jobs=20)]: Using backend ThreadingBackend with 20 concurrent workers.\n",
      "[Parallel(n_jobs=20)]: Done  10 tasks      | elapsed:    0.0s\n",
      "[Parallel(n_jobs=20)]: Done 160 tasks      | elapsed:    0.1s\n",
      "[Parallel(n_jobs=20)]: Done 410 tasks      | elapsed:    0.5s\n"
     ]
    },
    {
     "name": "stdout",
     "output_type": "stream",
     "text": [
      "0.6685138839232511\n",
      "0.6650998192689376\n"
     ]
    },
    {
     "name": "stderr",
     "output_type": "stream",
     "text": [
      "[Parallel(n_jobs=20)]: Done 600 out of 600 | elapsed:    0.8s finished\n"
     ]
    }
   ],
   "source": [
    "rf = RandomForestClassifier(bootstrap=True, class_weight=None, criterion='gini',\n",
    "            max_depth=None, max_features='auto', max_leaf_nodes=None,\n",
    "            min_impurity_decrease=0.0,\n",
    "            min_samples_leaf=1, min_samples_split=2,\n",
    "            min_weight_fraction_leaf=0.0, n_estimators=600, n_jobs=-1,\n",
    "            verbose=1, random_state=None, warm_start=False, oob_score=False)\n",
    "rf.fit(X_new_train, y_new_train)\n",
    "y_new_pred = rf.predict(X_new_test)\n",
    "acc = accuracy_score(y_new_test, y_new_pred)\n",
    "cv = cross_val_score(rf, X_new_test, y_new_test,scoring='roc_auc').mean()\n",
    "print(acc)\n",
    "print(cv)"
   ]
  },
  {
   "cell_type": "markdown",
   "id": "48d20225",
   "metadata": {},
   "source": [
    "### Feature Importances"
   ]
  },
  {
   "cell_type": "code",
   "execution_count": 46,
   "id": "0c78710c",
   "metadata": {},
   "outputs": [],
   "source": [
    "columns = ['hour', 'C1', 'banner_pos', 'device_type', 'device_conn_type', 'C14', 'C15', 'C16', 'C17', 'C18', 'C19', 'C20', 'C21']\n",
    "features = data_sample[columns]\n",
    "y = data_sample.click\n",
    "X = features"
   ]
  },
  {
   "cell_type": "code",
   "execution_count": 47,
   "id": "c61e7917",
   "metadata": {},
   "outputs": [
    {
     "name": "stdout",
     "output_type": "stream",
     "text": [
      "            Features  Importance scores\n",
      "0               hour           0.008086\n",
      "1                 C1           0.008771\n",
      "2         banner_pos           0.014281\n",
      "3        device_type           0.016927\n",
      "4   device_conn_type           0.024372\n",
      "5                C14           0.025311\n",
      "6                C15           0.028052\n",
      "7                C16           0.028483\n",
      "8                C17           0.042065\n",
      "9                C18           0.052380\n",
      "10               C19           0.097249\n",
      "11               C20           0.125926\n",
      "12               C21           0.528097\n"
     ]
    }
   ],
   "source": [
    "features = X\n",
    "importances = list(rf.feature_importances_)\n",
    "imp=np.sort(importances)\n",
    "tab=pd.DataFrame(list(zip(X,imp)),columns =['Features', 'Importance scores']) \n",
    "print(tab)"
   ]
  },
  {
   "cell_type": "code",
   "execution_count": 48,
   "id": "7fc545fc",
   "metadata": {},
   "outputs": [
    {
     "data": {
      "image/png": "[encoded data removed]",
      "text/plain": [
       "<Figure size 720x360 with 1 Axes>"
      ]
     },
     "metadata": {
      "needs_background": "light"
     },
     "output_type": "display_data"
    }
   ],
   "source": [
    "#visual of Feature Importances:\n",
    "\n",
    "plt.figure(figsize=(10,5))\n",
    "\n",
    "index = [0,1,2,3,4,5,6,7,8,9,10,11,12]\n",
    "_=plt.barh(index,imp, align='center',color='b')\n",
    "plt.xlabel('Relative Importance',fontsize=15)\n",
    "plt.ylabel('Features',fontsize=15)\n",
    "plt.yticks(index, features)\n",
    "plt.title('Feature Importances for Random Forest classifier model',fontsize=15)\n",
    "plt.savefig(\"28.png\")\n",
    "plt.show()"
   ]
  },
  {
   "cell_type": "markdown",
   "id": "5d2ae730",
   "metadata": {},
   "source": [
    "### ROC-AUC Score and ROC Curve for Random Forest Model"
   ]
  },
  {
   "cell_type": "code",
   "execution_count": 49,
   "id": "1231f8dc",
   "metadata": {},
   "outputs": [
    {
     "name": "stderr",
     "output_type": "stream",
     "text": [
      "[Parallel(n_jobs=20)]: Using backend ThreadingBackend with 20 concurrent workers.\n",
      "[Parallel(n_jobs=20)]: Done  10 tasks      | elapsed:    0.1s\n",
      "[Parallel(n_jobs=20)]: Done 160 tasks      | elapsed:    2.2s\n",
      "[Parallel(n_jobs=20)]: Done 410 tasks      | elapsed:    5.7s\n"
     ]
    },
    {
     "name": "stdout",
     "output_type": "stream",
     "text": [
      "ROC-AUC Score: 0.7247564503128874\n"
     ]
    },
    {
     "name": "stderr",
     "output_type": "stream",
     "text": [
      "[Parallel(n_jobs=20)]: Done 600 out of 600 | elapsed:    8.3s finished\n"
     ]
    }
   ],
   "source": [
    "from sklearn.metrics import auc, roc_curve, roc_auc_score\n",
    "y_scores_rf = rf.predict_proba(X_new_test)\n",
    "y_scores_rf = y_scores_rf[:,1]\n",
    "auroc = roc_auc_score(y_new_test, y_scores_rf)\n",
    "print(\"ROC-AUC Score:\", auroc)"
   ]
  },
  {
   "cell_type": "code",
   "execution_count": 50,
   "id": "e99bda1e",
   "metadata": {},
   "outputs": [
    {
     "data": {
      "image/png": "[encoded data removed]",
      "text/plain": [
       "<Figure size 720x360 with 1 Axes>"
      ]
     },
     "metadata": {
      "needs_background": "light"
     },
     "output_type": "display_data"
    }
   ],
   "source": [
    "false_positive_rate, true_positive_rate, thresholds = roc_curve(y_new_test, y_scores_rf)\n",
    "def plot_roc_curve(false_positive_rate, true_positive_rate, label=None):\n",
    "    plt.plot(false_positive_rate, true_positive_rate, linewidth=2, label=label)\n",
    "    plt.plot([0, 1], [0, 1], 'r', linewidth=4)\n",
    "    plt.axis([0, 1, 0, 1])\n",
    "    plt.xlabel('False Positive Rate (FPR)', fontsize=15)\n",
    "    plt.ylabel('True Positive Rate (TPR)', fontsize=15)\n",
    "    plt.title('ROC curve (RF)',fontsize=15)\n",
    "\n",
    "plt.figure(figsize=(10, 5))\n",
    "plot_roc_curve(false_positive_rate, true_positive_rate)\n",
    "plt.savefig(\"30.png\")\n",
    "plt.show()"
   ]
  },
  {
   "cell_type": "markdown",
   "id": "872fd14e",
   "metadata": {},
   "source": [
    "### Conclusion\n",
    "Based on our results, our values weren't the best, but they were decent enough. We chose the best model and parameters that we could find through our analysis. The best model was Random Forest Model, while using GridSearchCV for hyperparameter tuning. We can conclude that (unknown) feature C21 is the most predictive in predicting click through rate for an online advertisement with our model accuracy score being 0.67 and our ROC-AUC score of 0.72. "
   ]
  }
 ],
 "metadata": {
  "kernelspec": {
   "display_name": "Python 3 (ipykernel)",
   "language": "python",
   "name": "python3"
  },
  "language_info": {
   "codemirror_mode": {
    "name": "ipython",
    "version": 3
   },
   "file_extension": ".py",
   "mimetype": "text/x-python",
   "name": "python",
   "nbconvert_exporter": "python",
   "pygments_lexer": "ipython3",
   "version": "3.9.12"
  }
 },
 "nbformat": 4,
 "nbformat_minor": 5
}
